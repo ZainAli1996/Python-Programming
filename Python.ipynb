#For Printing Poem

Line1 = "   Twinkle, twinkle, little star,"
Line2 = "      How I wonder what you are!"
Line3 = "         Up above the world so high,"
Line4 = "         Like a diamond in the sky"
Line5 = "   Twinkle, twinkle, little star,"
Line6 = "      How I wonder what you are"
print(Line1 + "\n" + Line2 + "\n" + Line3 + "\n" + Line4 + "\n" + Line5 + "\n" + Line6)



#For Printing Python Version

import sys
print("My Python Version")
print(sys.version)



#For Printing Current Date & Time

from datetime import datetime
today = datetime.now()
print("Current Date & Time =", today)



import math
from math import pi

#For Printing Radius Of Circle

radius=input("Please Enter The Radius of Circle ")

print("Radius =", radius)

#For Printing Area Of Circle

Area_circle=pi*float(radius)**2

print("Area of The Circle =", Area_circle)



#For Printing Full_Name in Reverse Order

First_Name = "ZAIN"
Last_Name = "ALI"
Full_Name = Last_Name + " " + First_Name
print("RESULT =", Full_Name)



#For Printing User's Input Values Sum/Addition

x = int(input("Enter Value1 = "))
y = int(input("Enter Value2 = "))
z = x + y
print("RESULT =", z)